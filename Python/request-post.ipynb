{
 "nbformat": 4,
 "nbformat_minor": 2,
 "metadata": {
  "language_info": {
   "name": "python",
   "codemirror_mode": {
    "name": "ipython",
    "version": 3
   },
   "version": "3.7.3-final"
  },
  "orig_nbformat": 2,
  "file_extension": ".py",
  "mimetype": "text/x-python",
  "name": "python",
  "npconvert_exporter": "python",
  "pygments_lexer": "ipython3",
  "version": 3,
  "kernelspec": {
   "name": "python3",
   "display_name": "Python 3"
  }
 },
 "cells": [
  {
   "cell_type": "code",
   "execution_count": 9,
   "metadata": {},
   "outputs": [],
   "source": [
    "import requests"
   ]
  },
  {
   "cell_type": "code",
   "execution_count": 10,
   "metadata": {},
   "outputs": [],
   "source": [
    "# defining the api-endpoint  \n",
    "url = \"https://northeurope.api.cognitive.microsoft.com/vision/v2.1/ocr?language=de&detectOrientation=true\""
   ]
  },
  {
   "cell_type": "code",
   "execution_count": 14,
   "metadata": {},
   "outputs": [],
   "source": [
    "# data for the body\n",
    "data = \"{\\\"url\\\":\\\"https://images-na.ssl-images-amazon.com/images/I/61wDrt-BUVL._SY606_.jpg\\\"}\"\n",
    "# header\n",
    "headers = {\n",
    "  'Ocp-Apim-Subscription-Key': '6970498a2608462891ffa6d214f590e7',\n",
    "  'Content-Type': 'application/json'\n",
    "}"
   ]
  },
  {
   "cell_type": "code",
   "execution_count": 15,
   "metadata": {},
   "outputs": [
    {
     "output_type": "stream",
     "name": "stdout",
     "text": "b'{\"language\":\"de\",\"textAngle\":0.0,\"orientation\":\"Up\",\"regions\":[{\"boundingBox\":\"32,32,359,542\",\"lines\":[{\"boundingBox\":\"68,32,298,24\",\"words\":[{\"boundingBox\":\"68,32,43,24\",\"text\":\"Ihr\"},{\"boundingBox\":\"121,32,130,24\",\"text\":\"n\\xc3\\xa4chster\"},{\"boundingBox\":\"261,32,105,24\",\"text\":\"Termin\"}]},{\"boundingBox\":\"39,105,352,21\",\"words\":[{\"boundingBox\":\"39,105,45,20\",\"text\":\"MO\"},{\"boundingBox\":\"109,105,28,20\",\"text\":\"Dl\"},{\"boundingBox\":\"169,105,33,20\",\"text\":\"Ml\"},{\"boundingBox\":\"228,105,40,20\",\"text\":\"DO\"},{\"boundingBox\":\"293,105,38,21\",\"text\":\"FR\"},{\"boundingBox\":\"355,105,36,20\",\"text\":\"SA\"}]},{\"boundingBox\":\"33,208,62,15\",\"words\":[{\"boundingBox\":\"33,208,62,15\",\"text\":\"Datum\"}]},{\"boundingBox\":\"32,276,69,16\",\"words\":[{\"boundingBox\":\"32,276,69,16\",\"text\":\"Uhrzeit\"}]},{\"boundingBox\":\"59,516,317,13\",\"words\":[{\"boundingBox\":\"59,516,27,11\",\"text\":\"Falls\"},{\"boundingBox\":\"91,516,19,11\",\"text\":\"Sie\"},{\"boundingBox\":\"114,517,34,10\",\"text\":\"Ihren\"},{\"boundingBox\":\"152,516,45,11\",\"text\":\"Termin\"},{\"boundingBox\":\"201,516,32,11\",\"text\":\"nicht\"},{\"boundingBox\":\"236,517,85,10\",\"text\":\"wahrnehmen\"},{\"boundingBox\":\"325,516,51,13\",\"text\":\"k\\xc3\\xb6nnen,\"}]},{\"boundingBox\":\"53,532,327,14\",\"words\":[{\"boundingBox\":\"53,532,38,14\",\"text\":\"geben\"},{\"boundingBox\":\"96,532,19,11\",\"text\":\"Sie\"},{\"boundingBox\":\"120,535,22,8\",\"text\":\"uns\"},{\"boundingBox\":\"146,532,28,11\",\"text\":\"bitte\"},{\"boundingBox\":\"178,532,66,14\",\"text\":\"rechtzeitig\"},{\"boundingBox\":\"248,532,68,11\",\"text\":\"telefonisch\"},{\"boundingBox\":\"320,532,60,11\",\"text\":\"Bescheid\"}]},{\"boundingBox\":\"175,549,84,11\",\"words\":[{\"boundingBox\":\"175,549,39,10\",\"text\":\"Vielen\"},{\"boundingBox\":\"219,549,34,11\",\"text\":\"Dank\"},{\"boundingBox\":\"257,549,2,10\",\"text\":\"!\"}]},{\"boundingBox\":\"145,566,144,8\",\"words\":[{\"boundingBox\":\"145,566,15,8\",\"text\":\"Art.\"},{\"boundingBox\":\"164,566,25,8\",\"text\":\"tb152\"},{\"boundingBox\":\"217,566,72,8\",\"text\":\"0168501115200\"}]}]}]}'\n"
    }
   ],
   "source": [
    "# sending post request and saving response as response object \n",
    "response = requests.request(\"POST\", url, headers=headers, data = data)\n",
    "\n",
    "print(response.text.encode('utf8'))"
   ]
  },
  {
   "cell_type": "code",
   "execution_count": null,
   "metadata": {},
   "outputs": [],
   "source": []
  }
 ]
}